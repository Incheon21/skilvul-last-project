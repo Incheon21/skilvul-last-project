{
 "cells": [
  {
   "cell_type": "code",
   "execution_count": 1,
   "metadata": {},
   "outputs": [],
   "source": [
    "import pandas as pd\n",
    "from sklearn.preprocessing import StandardScaler\n",
    "from sklearn.ensemble import IsolationForest\n",
    "\n",
    "data = pd.read_csv('data.csv')\n",
    "\n",
    "data = data.dropna()\n",
    "\n",
    "X = data[['Temperature', 'Humidity']]\n",
    "\n",
    "scaler = StandardScaler()\n",
    "X_scaled = scaler.fit_transform(X)\n",
    "\n",
    "# test/optional\n",
    "outliers_removed = ((X_scaled > -3) & (X_scaled < 3)).all(axis=1)\n",
    "X_clean = X_scaled[outliers_removed]\n",
    "\n"
   ]
  },
  {
   "cell_type": "code",
   "execution_count": 2,
   "metadata": {},
   "outputs": [],
   "source": [
    "model = IsolationForest(n_estimators=100, contamination=0.05, random_state=42)\n",
    "model.fit(X_clean)\n",
    "\n",
    "predictions = model.predict(X_scaled)\n",
    "\n",
    "data['anomaly'] = (predictions == -1).astype(int)\n",
    "\n",
    "anomalies = data[data['anomaly'] == 1]\n",
    "\n",
    "import pickle\n",
    "with open('anomaly_detection_model.pkl', 'wb') as f:\n",
    "    pickle.dump(model, f)\n",
    "\n",
    "with open('scaler.pkl', 'wb') as f:\n",
    "    pickle.dump(scaler, f)\n"
   ]
  },
  {
   "cell_type": "code",
   "execution_count": 4,
   "metadata": {},
   "outputs": [
    {
     "name": "stdout",
     "output_type": "stream",
     "text": [
      "[[ 0.01830617 -0.08841729]]\n",
      "Normal data\n"
     ]
    },
    {
     "name": "stderr",
     "output_type": "stream",
     "text": [
      "c:\\Users\\alvin\\Documents\\Alvin\\projects\\myenv\\lib\\site-packages\\sklearn\\base.py:493: UserWarning: X does not have valid feature names, but StandardScaler was fitted with feature names\n",
      "  warnings.warn(\n"
     ]
    }
   ],
   "source": [
    "#TEST DATA BARU\n",
    "\n",
    "import pickle\n",
    "import numpy as np\n",
    "\n",
    "with open('anomaly_detection_model.pkl', 'rb') as f:\n",
    "    model = pickle.load(f)\n",
    "\n",
    "with open('scaler.pkl', 'rb') as f:\n",
    "    scaler = pickle.load(f)\n",
    "\n",
    "# Example new data\n",
    "new_data = np.array([[27.6, 71]])  \n",
    "# New temperature and humidity data\n",
    "\n",
    "new_data_scaled = scaler.transform(new_data)\n",
    "print(new_data_scaled)\n",
    "\n",
    "prediction = model.predict(new_data_scaled)\n",
    "\n",
    "is_anomaly = (prediction == -1).astype(int)\n",
    "\n",
    "if is_anomaly == 1:\n",
    "    print(\"Anomaly detected\")\n",
    "else:\n",
    "    print(\"Normal data\")"
   ]
  }
 ],
 "metadata": {
  "kernelspec": {
   "display_name": "myenv",
   "language": "python",
   "name": "python3"
  },
  "language_info": {
   "codemirror_mode": {
    "name": "ipython",
    "version": 3
   },
   "file_extension": ".py",
   "mimetype": "text/x-python",
   "name": "python",
   "nbconvert_exporter": "python",
   "pygments_lexer": "ipython3",
   "version": "3.9.7"
  }
 },
 "nbformat": 4,
 "nbformat_minor": 2
}
